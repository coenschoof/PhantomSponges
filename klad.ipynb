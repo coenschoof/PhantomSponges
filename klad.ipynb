{
 "cells": [
  {
   "cell_type": "code",
   "execution_count": 15,
   "metadata": {},
   "outputs": [
    {
     "name": "stdout",
     "output_type": "stream",
     "text": [
      "okay\n",
      "offsets:  tensor([  0., 161., 322., 483.])\n",
      "boxes after:  tensor([[ 50.,  40., 100., 100.],\n",
      "        [221., 211., 281., 281.],\n",
      "        [392., 382., 462., 462.],\n",
      "        [563., 553., 643., 643.]])\n",
      "tensor([0, 1, 2, 3])\n"
     ]
    }
   ],
   "source": [
    "import torch\n",
    "from torchvision.ops import batched_nms\n",
    "\n",
    "# Simulated input data\n",
    "boxes = torch.tensor([[50, 40, 100, 100], [60, 50, 120, 120], [70, 60, 140, 140], [80, 70, 160, 160]], dtype=torch.float32)\n",
    "scores = torch.tensor([0.9, 0.8, 0.7, 0.6], dtype=torch.float32)\n",
    "\n",
    "# Apply Non-Maximum Suppression (NMS)\n",
    "keep_indices = batched_nms(boxes, scores, torch.arange(len(boxes)), iou_threshold=0.5)\n",
    "\n",
    "# Print the indices of the selected boxes after NMS\n",
    "print(keep_indices)"
   ]
  },
  {
   "cell_type": "code",
   "execution_count": 17,
   "metadata": {},
   "outputs": [
    {
     "data": {
      "text/plain": [
       "array([0.15, 0.11, 0.07, 0.05])"
      ]
     },
     "execution_count": 17,
     "metadata": {},
     "output_type": "execute_result"
    }
   ],
   "source": [
    "import numpy as np\n",
    "\n",
    "confs =  np.array([0.1, 0.14, 0.18, 0.2])\n",
    "\n",
    "-1 * confs + 0.25"
   ]
  },
  {
   "cell_type": "code",
   "execution_count": 3,
   "metadata": {},
   "outputs": [
    {
     "data": {
      "text/plain": [
       "tensor([0, 1, 2, 3])"
      ]
     },
     "execution_count": 3,
     "metadata": {},
     "output_type": "execute_result"
    }
   ],
   "source": [
    "torch.arange(len(boxes))"
   ]
  },
  {
   "cell_type": "code",
   "execution_count": 7,
   "metadata": {},
   "outputs": [
    {
     "data": {
      "text/plain": [
       "tensor([0, 1, 2, 3])"
      ]
     },
     "execution_count": 7,
     "metadata": {},
     "output_type": "execute_result"
    }
   ],
   "source": [
    "torch.ops.torchvision.nms(boxes, scores, iou_threshold=0.5)"
   ]
  },
  {
   "cell_type": "code",
   "execution_count": 5,
   "metadata": {},
   "outputs": [
    {
     "name": "stdout",
     "output_type": "stream",
     "text": [
      "okay\n",
      "offsets:  tensor([161., 161., 161., 161.])\n",
      "boxes after:  tensor([[211., 201., 261., 261.],\n",
      "        [221., 211., 281., 281.],\n",
      "        [231., 221., 301., 301.],\n",
      "        [241., 231., 321., 321.]])\n",
      "tensor([0, 1, 2, 3])\n",
      "tensor([[ 50.,  40., 100., 100.],\n",
      "        [ 60.,  50., 120., 120.],\n",
      "        [ 70.,  60., 140., 140.],\n",
      "        [ 80.,  70., 160., 160.]])\n"
     ]
    },
    {
     "data": {
      "image/png": "[encoded data removed]",
      "text/plain": [
       "<Figure size 1000x500 with 2 Axes>"
      ]
     },
     "metadata": {},
     "output_type": "display_data"
    }
   ],
   "source": [
    "import torch\n",
    "import matplotlib.pyplot as plt\n",
    "from torchvision.ops import batched_nms\n",
    "\n",
    "# Simulated input data\n",
    "boxes = torch.tensor([[50, 40, 100, 100], [60, 50, 120, 120], [70, 60, 140, 140], [80, 70, 160, 160]], dtype=torch.float32)\n",
    "scores = torch.tensor([0.9, 0.8, 0.7, 0.6], dtype=torch.float32)\n",
    "\n",
    "# Visualize the bounding boxes before NMS\n",
    "fig, ax = plt.subplots(1, 2, figsize=(10, 5))\n",
    "ax[0].imshow(plt.imread(\"image.jpg\"))\n",
    "ax[0].set_title(\"Before NMS\")\n",
    "\n",
    "# Plot the original bounding boxes\n",
    "for i, box in enumerate(boxes):\n",
    "    x, y, w, h = box.tolist()\n",
    "    rect = plt.Rectangle((x, y), w, h, fill=False, edgecolor='red')\n",
    "    ax[0].add_patch(rect)\n",
    "    ax[0].text(x, y, f\"Box {i}\", color='red')\n",
    "\n",
    "# Apply Non-Maximum Suppression (NMS)\n",
    "keep_indices = batched_nms(boxes, scores, torch.tensor([1,1,1,1]), iou_threshold=0.5)\n",
    "print(keep_indices)\n",
    "\n",
    "# Filter out the boxes that are removed after NMS\n",
    "filtered_boxes = boxes[keep_indices]\n",
    "filtered_scores = scores[keep_indices]\n",
    "\n",
    "# Visualize the bounding boxes after NMS\n",
    "ax[1].imshow(plt.imread(\"image.jpg\"))\n",
    "ax[1].set_title(\"After NMS\")\n",
    "\n",
    "print(filtered_boxes)\n",
    "\n",
    "# Plot the selected boxes after NMS\n",
    "for idx in range(len(filtered_boxes)):\n",
    "    box = filtered_boxes[idx].tolist()\n",
    "    x, y, w, h = box\n",
    "    rect = plt.Rectangle((x, y), w, h, fill=False, edgecolor='green')\n",
    "    ax[1].add_patch(rect)\n",
    "    ax[1].text(x, y, f\"Box {idx}\", color='green')\n",
    "\n",
    "# Display the plots\n",
    "plt.axis('off')\n",
    "plt.tight_layout()\n",
    "plt.show()\n"
   ]
  },
  {
   "cell_type": "code",
   "execution_count": 4,
   "metadata": {},
   "outputs": [
    {
     "name": "stdout",
     "output_type": "stream",
     "text": [
      "(1280, 720) 1.1138950002651986\n"
     ]
    },
    {
     "ename": "ValueError",
     "evalue": "Unknown resampling filter (802.004400190943). Use Image.NEAREST (0), Image.LANCZOS (1), Image.BILINEAR (2), Image.BICUBIC (3), Image.BOX (4) or Image.HAMMING (5)",
     "output_type": "error",
     "traceback": [
      "\u001b[0;31m---------------------------------------------------------------------------\u001b[0m",
      "\u001b[0;31mValueError\u001b[0m                                Traceback (most recent call last)",
      "Cell \u001b[0;32mIn[4], line 38\u001b[0m\n\u001b[1;32m     36\u001b[0m pil_image \u001b[39m=\u001b[39m transforms\u001b[39m.\u001b[39mToPILImage()(normalized_tensor\u001b[39m.\u001b[39msqueeze()\u001b[39m.\u001b[39mcpu())\n\u001b[1;32m     37\u001b[0m \u001b[39mprint\u001b[39m(original_img_size, random_scale)\n\u001b[0;32m---> 38\u001b[0m image \u001b[39m=\u001b[39m image\u001b[39m.\u001b[39;49mresize(original_img_size[\u001b[39m0\u001b[39;49m] \u001b[39m*\u001b[39;49m random_scale, original_img_size[\u001b[39m1\u001b[39;49m] \u001b[39m*\u001b[39;49m random_scale)\n\u001b[1;32m     40\u001b[0m \u001b[39m# Save the PIL image\u001b[39;00m\n\u001b[1;32m     41\u001b[0m image_path \u001b[39m=\u001b[39m \u001b[39m\"\u001b[39m\u001b[39m/Users/coenschoof/miniconda/envs/phantomsponges/PhantomSponges/perturbed_image_2_randomResize.jpg\u001b[39m\u001b[39m\"\u001b[39m\n",
      "File \u001b[0;32m~/miniconda/envs/phantomsponges/lib/python3.9/site-packages/PIL/Image.py:1964\u001b[0m, in \u001b[0;36mImage.resize\u001b[0;34m(self, size, resample, box, reducing_gap)\u001b[0m\n\u001b[1;32m   1951\u001b[0m     message \u001b[39m=\u001b[39m \u001b[39mf\u001b[39m\u001b[39m\"\u001b[39m\u001b[39mUnknown resampling filter (\u001b[39m\u001b[39m{\u001b[39;00mresample\u001b[39m}\u001b[39;00m\u001b[39m).\u001b[39m\u001b[39m\"\u001b[39m\n\u001b[1;32m   1953\u001b[0m     filters \u001b[39m=\u001b[39m [\n\u001b[1;32m   1954\u001b[0m         \u001b[39m\"\u001b[39m\u001b[39m{}\u001b[39;00m\u001b[39m (\u001b[39m\u001b[39m{}\u001b[39;00m\u001b[39m)\u001b[39m\u001b[39m\"\u001b[39m\u001b[39m.\u001b[39mformat(\u001b[39mfilter\u001b[39m[\u001b[39m1\u001b[39m], \u001b[39mfilter\u001b[39m[\u001b[39m0\u001b[39m])\n\u001b[1;32m   1955\u001b[0m         \u001b[39mfor\u001b[39;00m \u001b[39mfilter\u001b[39m \u001b[39min\u001b[39;00m (\n\u001b[0;32m   (...)\u001b[0m\n\u001b[1;32m   1962\u001b[0m         )\n\u001b[1;32m   1963\u001b[0m     ]\n\u001b[0;32m-> 1964\u001b[0m     \u001b[39mraise\u001b[39;00m \u001b[39mValueError\u001b[39;00m(\n\u001b[1;32m   1965\u001b[0m         message \u001b[39m+\u001b[39m \u001b[39m\"\u001b[39m\u001b[39m Use \u001b[39m\u001b[39m\"\u001b[39m \u001b[39m+\u001b[39m \u001b[39m\"\u001b[39m\u001b[39m, \u001b[39m\u001b[39m\"\u001b[39m\u001b[39m.\u001b[39mjoin(filters[:\u001b[39m-\u001b[39m\u001b[39m1\u001b[39m]) \u001b[39m+\u001b[39m \u001b[39m\"\u001b[39m\u001b[39m or \u001b[39m\u001b[39m\"\u001b[39m \u001b[39m+\u001b[39m filters[\u001b[39m-\u001b[39m\u001b[39m1\u001b[39m]\n\u001b[1;32m   1966\u001b[0m     )\n\u001b[1;32m   1968\u001b[0m \u001b[39mif\u001b[39;00m reducing_gap \u001b[39mis\u001b[39;00m \u001b[39mnot\u001b[39;00m \u001b[39mNone\u001b[39;00m \u001b[39mand\u001b[39;00m reducing_gap \u001b[39m<\u001b[39m \u001b[39m1.0\u001b[39m:\n\u001b[1;32m   1969\u001b[0m     \u001b[39mraise\u001b[39;00m \u001b[39mValueError\u001b[39;00m(\u001b[39m\"\u001b[39m\u001b[39mreducing_gap must be 1.0 or greater\u001b[39m\u001b[39m\"\u001b[39m)\n",
      "\u001b[0;31mValueError\u001b[0m: Unknown resampling filter (802.004400190943). Use Image.NEAREST (0), Image.LANCZOS (1), Image.BILINEAR (2), Image.BICUBIC (3), Image.BOX (4) or Image.HAMMING (5)"
     ]
    }
   ],
   "source": [
    "import torch\n",
    "from torchvision import transforms\n",
    "from PIL import Image\n",
    "import random\n",
    "\n",
    "random_scale = random.uniform(0.5, 2)\n",
    "\n",
    "# Load the image using PIL\n",
    "image_path = \"/Users/coenschoof/miniconda/envs/phantomsponges/BDD100K-to-YOLOV5/bdd_in_YOLOV5_train_newLabels/images/val/b1ca2e5d-84cf9134.jpg\" \n",
    "image = Image.open(image_path)\n",
    "original_img_size = image.size\n",
    "image = image.resize((640, 640))\n",
    "\n",
    "# Define transformations to convert the image to a torch tensor\n",
    "transform = transforms.Compose([transforms.ToTensor()])\n",
    "\n",
    "buses = transform(image)\n",
    "\n",
    "# Load the image using PIL\n",
    "image_path = \"/Users/coenschoof/miniconda/envs/phantomsponges/PhantomSponges/final_patch.png\" \n",
    "image = Image.open(image_path)\n",
    "perturbation = transform(image)\n",
    "\n",
    "#print(perturbation.size())\n",
    "\n",
    "result = torch.clamp(buses + perturbation, 0, 1)\n",
    "\n",
    "# Assuming you have a torch tensor named torch_image\n",
    "# You can resize the tensor to (H, W, C) shape using transpose and multiply by 255 (if it's not already in the correct range)\n",
    "#pil_image = transforms.ToPILImage()(result.squeeze().cpu() * 255)\n",
    "tensor_min = torch.min(result)\n",
    "tensor_max = torch.max(result)\n",
    "normalized_tensor = (result - tensor_min) / (tensor_max - tensor_min)\n",
    "\n",
    "# Convert the normalized tensor to a PIL image\n",
    "pil_image = transforms.ToPILImage()(normalized_tensor.squeeze().cpu())\n",
    "width = int(original_img_size[0] * random_scale)\n",
    "height = int(original_img_size[1] * random_scale)\n",
    "print(width, height)\n",
    "image = image.resize(width, height)\n",
    "\n",
    "# Save the PIL image\n",
    "image_path = \"/Users/coenschoof/miniconda/envs/phantomsponges/PhantomSponges/perturbed_image_2_randomResize.jpg\"\n",
    "pil_image.save(image_path)"
   ]
  }
 ],
 "metadata": {
  "kernelspec": {
   "display_name": "internship",
   "language": "python",
   "name": "python3"
  },
  "language_info": {
   "codemirror_mode": {
    "name": "ipython",
    "version": 3
   },
   "file_extension": ".py",
   "mimetype": "text/x-python",
   "name": "python",
   "nbconvert_exporter": "python",
   "pygments_lexer": "ipython3",
   "version": "3.9.17"
  },
  "orig_nbformat": 4
 },
 "nbformat": 4,
 "nbformat_minor": 2
}
