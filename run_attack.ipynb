{
 "cells": [
  {
   "cell_type": "markdown",
   "metadata": {
    "collapsed": false,
    "pycharm": {
     "name": "#%% md\n"
    }
   },
   "source": [
    "configuration:\n",
    "models_ver - insert YOLO version's numbers that the UAP will be trained on.\n",
    "\n",
    "epsilon, lambda_1, lambda_2 - attack's parameters. more information can be found in the [paper](https://arxiv.org/abs/2205.13618)\n",
    "\n",
    "BDD_IMG_DIR - a path to the BDD validation set images (or any other wanted dataset)\n",
    "\n",
    "BDD_LAB_DIR - a path to the BDD validation set labels (or any other wanted dataset)"
   ]
  },
  {
   "cell_type": "code",
   "execution_count": 14,
   "metadata": {
    "collapsed": false,
    "pycharm": {
     "name": "#%%\n"
    }
   },
   "outputs": [],
   "source": [
    "models_vers = [5] # for example: models_vers = [5] or models_vers = [3, 4, 5]\n",
    "epsilon = 70\n",
    "lambda_1 = 1\n",
    "lambda_2 = 10\n",
    "seed = 42\n",
    "patch_size=(640,640)\n",
    "img_size=(640,640)\n",
    "batch_size = 8\n",
    "num_workers = 4\n",
    "max_labels_per_img = 65\n",
    "BDD_IMG_DIR = '/Users/coenschoof/miniconda/envs/phantomsponges/BDD100K-to-YOLOV5/bdd_in_YOLOV5_train_newLabels/images/val'\n",
    "BDD_LAB_DIR = '/Users/coenschoof/miniconda/envs/phantomsponges/BDD100K-to-YOLOV5/bdd_in_YOLOV5_train_newLabels/labels/val'"
   ]
  },
  {
   "cell_type": "markdown",
   "metadata": {
    "collapsed": false,
    "pycharm": {
     "name": "#%% md\n"
    }
   },
   "source": [
    "Load BDD dataset:"
   ]
  },
  {
   "cell_type": "code",
   "execution_count": 15,
   "metadata": {},
   "outputs": [],
   "source": [
    "import torch\n",
    "import os\n",
    "import random\n",
    "import numpy\n",
    "\n",
    "from datasets.augmentations1 import train_transform\n",
    "from datasets.split_data_set_combined import SplitDatasetCombined_BDD"
   ]
  },
  {
   "cell_type": "code",
   "execution_count": 16,
   "metadata": {
    "collapsed": false,
    "pycharm": {
     "name": "#%%\n"
    }
   },
   "outputs": [],
   "source": [
    "# batch = [(1, 'a'), (2, 'b'), (3, 'c')]\n",
    "\n",
    "# unzipped = zip(*batch)\n",
    "\n",
    "# numbers, letters = unzipped\n",
    "\n",
    "# print(numbers)  # Output: (1, 2, 3)\n",
    "# print(letters)  # Output: ('a', 'b', 'c')\n",
    "\n",
    "#dus ipv [(tensor, array, string), (tensor, array, string), (tensor, array, string)] hebben we\n",
    "# train_loader[0] bevat 8 images\n",
    "# train_loader[1] bevat alle labels per voor 8 images\n",
    "# train_loader[2] bevat paths naar 8 images\n",
    "def collate_fn(batch):\n",
    "    return tuple(zip(*batch))\n",
    "\n",
    "def set_random_seed(seed_value, use_cuda=True):\n",
    "    numpy.random.seed(seed_value)  # cpu vars\n",
    "    torch.manual_seed(seed_value)  # cpu  vars\n",
    "    random.seed(seed_value)  # Python\n",
    "    os.environ['PYTHONHASHSEED'] = str(seed_value)  # Python hash buildin\n",
    "    if use_cuda:\n",
    "        torch.cuda.manual_seed(seed_value)\n",
    "        torch.cuda.manual_seed_all(seed_value)  # gpu vars\n",
    "        torch.backends.cudnn.deterministic = True  # needed\n",
    "        torch.backends.cudnn.benchmark = False"
   ]
  },
  {
   "cell_type": "code",
   "execution_count": 17,
   "metadata": {},
   "outputs": [],
   "source": [
    "split_dataset = SplitDatasetCombined_BDD(\n",
    "            img_dir= BDD_IMG_DIR,\n",
    "            lab_dir= BDD_LAB_DIR,\n",
    "            max_lab=max_labels_per_img,\n",
    "            img_size=img_size,\n",
    "            transform=train_transform,\n",
    "            collate_fn=collate_fn)"
   ]
  },
  {
   "cell_type": "code",
   "execution_count": 18,
   "metadata": {},
   "outputs": [],
   "source": [
    "#train_loader en val_loader \n",
    "train_loader, val_loader, test_loader = split_dataset(val_split=0.1,\n",
    "                                                      shuffle_dataset=True,\n",
    "                                                      random_seed=seed,\n",
    "                                                      batch_size=batch_size,\n",
    "                                                      ordered=False,\n",
    "                                                      collate_fn=collate_fn)"
   ]
  },
  {
   "cell_type": "code",
   "execution_count": 19,
   "metadata": {},
   "outputs": [],
   "source": [
    "# from torch.utils.data import DataLoader, SubsetRandomSampler, RandomSampler\n",
    "\n",
    "# sampler = RandomSampler([0,1,2,3])\n",
    "\n",
    "# for i in sampler:\n",
    "#     print(i)"
   ]
  },
  {
   "cell_type": "code",
   "execution_count": 20,
   "metadata": {},
   "outputs": [],
   "source": [
    "# next(iter(train_loader))"
   ]
  },
  {
   "cell_type": "code",
   "execution_count": 21,
   "metadata": {},
   "outputs": [],
   "source": [
    "# clean_xyxy_out = torch.tensor([[0.0156, 0.0312, 0.0781, 0.1094]])\n",
    "\n",
    "# patch_xyxy_out = torch.tensor([\n",
    "#                         [10/640, 20/640, 50/640, 70/640],  # [x1, y1, x2, y2]\n",
    "#                         [30/640, 40/640, 80/640, 100/640],\n",
    "#                         [60/640, 70/640, 120/640, 160/640],\n",
    "#                     ])\n",
    "\n",
    "# #intersect(patch_xyxy_out, clean_xyxy_out)\n",
    "\n",
    "# torch.min(clean_xyxy_out[:, 2:].unsqueeze(1).expand(1, 3, 2), patch_xyxy_out[:, 2:].unsqueeze(0).expand(1, 3, 2))"
   ]
  },
  {
   "cell_type": "code",
   "execution_count": 22,
   "metadata": {},
   "outputs": [],
   "source": [
    "# import torch\n",
    "# import torchvision.transforms as transforms\n",
    "# from PIL import Image\n",
    "\n",
    "# # Load the image using PIL\n",
    "# image = Image.open('/Users/coenschoof/miniconda/envs/phantomsponges/BDD100K-to-YOLOV5/bdd100k/images/100k/val/b1c9c847-3bda4659.jpg')\n",
    "\n",
    "# # Define the transformations to apply to the image\n",
    "# transform = transforms.ToTensor()\n",
    "\n",
    "# # Apply the transformations to convert the image to a tensor\n",
    "# tensor = transform(image)"
   ]
  },
  {
   "cell_type": "code",
   "execution_count": 23,
   "metadata": {},
   "outputs": [],
   "source": [
    "# model = torch.hub.load('ultralytics/yolov5', 'yolov5s')\n",
    "\n",
    "# # Inference\n",
    "# results = model(tensor.unsqueeze(0))"
   ]
  },
  {
   "cell_type": "code",
   "execution_count": 24,
   "metadata": {},
   "outputs": [],
   "source": [
    "# results.size()"
   ]
  },
  {
   "cell_type": "code",
   "execution_count": 25,
   "metadata": {},
   "outputs": [],
   "source": [
    "# for (img_batch, lab_batch, _) in val_loader:\n",
    "#     print(torch.stack(img_batch).size())\n",
    "#     break\n"
   ]
  },
  {
   "cell_type": "markdown",
   "metadata": {
    "collapsed": true,
    "pycharm": {
     "name": "#%% md\n"
    }
   },
   "source": [
    "create UAP:"
   ]
  },
  {
   "cell_type": "code",
   "execution_count": 26,
   "metadata": {
    "collapsed": false,
    "pycharm": {
     "name": "#%%\n"
    }
   },
   "outputs": [
    {
     "name": "stderr",
     "output_type": "stream",
     "text": [
      "Fusing layers... \n"
     ]
    },
    {
     "name": "stdout",
     "output_type": "stream",
     "text": [
      "CUDA Available:  False\n",
      "local_yolos/yolov5/weights/yolov5s.pt\n"
     ]
    },
    {
     "name": "stderr",
     "output_type": "stream",
     "text": [
      "[W NNPACK.cpp:79] Could not initialize NNPACK! Reason: Unsupported hardware.\n",
      "yolov5s summary: 270 layers, 7235389 parameters, 0 gradients, 16.6 GFLOPs\n"
     ]
    },
    {
     "name": "stdout",
     "output_type": "stream",
     "text": [
      "Epoch:  0\n",
      "saving png of current patch at epoch: 0, batch: 0/169...\n",
      "BB CSs == 0.25 0\n",
      "combined_loss, max_obj, bb_area, iou_loss for this batch =               0.435|0.249|0.019|0.0\n",
      "BB CSs == 0.25 0\n",
      "combined_loss, max_obj, bb_area, iou_loss for this batch =               0.48|0.248|0.023|0.001\n",
      "BB CSs == 0.25 0\n",
      "combined_loss, max_obj, bb_area, iou_loss for this batch =               0.432|0.248|0.018|0.002\n",
      "BB CSs == 0.25 0\n",
      "combined_loss, max_obj, bb_area, iou_loss for this batch =               0.475|0.249|0.023|0.005\n",
      "BB CSs == 0.25 0\n",
      "combined_loss, max_obj, bb_area, iou_loss for this batch =               0.46|0.248|0.021|0.005\n",
      "saving png of current patch at epoch: 0, batch: 5/169...\n",
      "BB CSs == 0.25 0\n",
      "combined_loss, max_obj, bb_area, iou_loss for this batch =               0.454|0.249|0.021|0.004\n",
      "BB CSs == 0.25 0\n",
      "combined_loss, max_obj, bb_area, iou_loss for this batch =               0.431|0.249|0.018|0.007\n",
      "BB CSs == 0.25 0\n",
      "combined_loss, max_obj, bb_area, iou_loss for this batch =               0.351|0.248|0.01|0.007\n",
      "BB CSs == 0.25 0\n",
      "combined_loss, max_obj, bb_area, iou_loss for this batch =               0.49|0.249|0.024|0.018\n",
      "BB CSs == 0.25 0\n",
      "combined_loss, max_obj, bb_area, iou_loss for this batch =               0.425|0.248|0.018|0.011\n",
      "saving png of current patch at epoch: 0, batch: 10/169...\n",
      "BB CSs == 0.25 0\n",
      "combined_loss, max_obj, bb_area, iou_loss for this batch =               0.482|0.248|0.023|0.007\n",
      "BB CSs == 0.25 0\n",
      "combined_loss, max_obj, bb_area, iou_loss for this batch =               0.383|0.248|0.013|0.021\n",
      "BB CSs == 0.25 0\n",
      "combined_loss, max_obj, bb_area, iou_loss for this batch =               0.511|0.249|0.026|0.005\n",
      "BB CSs == 0.25 0\n",
      "combined_loss, max_obj, bb_area, iou_loss for this batch =               0.412|0.248|0.016|0.006\n",
      "BB CSs == 0.25 0\n",
      "combined_loss, max_obj, bb_area, iou_loss for this batch =               0.464|0.248|0.022|0.008\n",
      "saving png of current patch at epoch: 0, batch: 15/169...\n",
      "BB CSs == 0.25 0\n",
      "combined_loss, max_obj, bb_area, iou_loss for this batch =               0.425|0.248|0.018|0.015\n",
      "BB CSs == 0.25 0\n",
      "combined_loss, max_obj, bb_area, iou_loss for this batch =               0.342|0.249|0.009|0.011\n",
      "BB CSs == 0.25 0\n",
      "combined_loss, max_obj, bb_area, iou_loss for this batch =               0.481|0.249|0.023|0.018\n",
      "BB CSs == 0.25 0\n",
      "combined_loss, max_obj, bb_area, iou_loss for this batch =               0.334|0.248|0.009|0.013\n",
      "BB CSs == 0.25 0\n",
      "combined_loss, max_obj, bb_area, iou_loss for this batch =               0.408|0.249|0.016|0.01\n",
      "saving png of current patch at epoch: 0, batch: 20/169...\n",
      "BB CSs == 0.25 0\n",
      "combined_loss, max_obj, bb_area, iou_loss for this batch =               0.35|0.248|0.01|0.035\n",
      "BB CSs == 0.25 0\n",
      "combined_loss, max_obj, bb_area, iou_loss for this batch =               0.343|0.248|0.01|0.015\n",
      "BB CSs == 0.25 0\n",
      "combined_loss, max_obj, bb_area, iou_loss for this batch =               0.486|0.249|0.024|0.007\n",
      "BB CSs == 0.25 0\n",
      "combined_loss, max_obj, bb_area, iou_loss for this batch =               0.344|0.248|0.01|0.009\n",
      "BB CSs == 0.25 0\n",
      "combined_loss, max_obj, bb_area, iou_loss for this batch =               0.375|0.248|0.013|0.014\n",
      "saving png of current patch at epoch: 0, batch: 25/169...\n",
      "BB CSs == 0.25 0\n",
      "combined_loss, max_obj, bb_area, iou_loss for this batch =               0.34|0.248|0.009|0.014\n",
      "BB CSs == 0.25 0\n",
      "combined_loss, max_obj, bb_area, iou_loss for this batch =               0.366|0.248|0.012|0.017\n",
      "BB CSs == 0.25 0\n",
      "combined_loss, max_obj, bb_area, iou_loss for this batch =               0.399|0.248|0.015|0.017\n",
      "BB CSs == 0.25 0\n",
      "combined_loss, max_obj, bb_area, iou_loss for this batch =               0.913|0.249|0.066|0.015\n",
      "BB CSs == 0.25 0\n",
      "combined_loss, max_obj, bb_area, iou_loss for this batch =               0.423|0.248|0.017|0.022\n",
      "saving png of current patch at epoch: 0, batch: 30/169...\n",
      "BB CSs == 0.25 0\n",
      "combined_loss, max_obj, bb_area, iou_loss for this batch =               0.439|0.249|0.019|0.016\n",
      "BB CSs == 0.25 0\n",
      "combined_loss, max_obj, bb_area, iou_loss for this batch =               0.348|0.248|0.01|0.009\n",
      "BB CSs == 0.25 0\n",
      "combined_loss, max_obj, bb_area, iou_loss for this batch =               0.421|0.248|0.017|0.02\n",
      "BB CSs == 0.25 0\n",
      "combined_loss, max_obj, bb_area, iou_loss for this batch =               0.424|0.248|0.018|0.02\n",
      "BB CSs == 0.25 0\n",
      "combined_loss, max_obj, bb_area, iou_loss for this batch =               0.351|0.248|0.01|0.018\n",
      "saving png of current patch at epoch: 0, batch: 35/169...\n",
      "BB CSs == 0.25 0\n",
      "combined_loss, max_obj, bb_area, iou_loss for this batch =               0.449|0.249|0.02|0.01\n",
      "BB CSs == 0.25 0\n",
      "combined_loss, max_obj, bb_area, iou_loss for this batch =               0.545|0.249|0.03|0.018\n",
      "BB CSs == 0.25 0\n",
      "combined_loss, max_obj, bb_area, iou_loss for this batch =               0.332|0.249|0.008|0.014\n",
      "BB CSs == 0.25 0\n",
      "combined_loss, max_obj, bb_area, iou_loss for this batch =               0.432|0.248|0.018|0.013\n",
      "BB CSs == 0.25 0\n",
      "combined_loss, max_obj, bb_area, iou_loss for this batch =               0.373|0.249|0.012|0.039\n",
      "saving png of current patch at epoch: 0, batch: 40/169...\n",
      "BB CSs == 0.25 0\n",
      "combined_loss, max_obj, bb_area, iou_loss for this batch =               0.367|0.248|0.012|0.029\n",
      "BB CSs == 0.25 0\n",
      "combined_loss, max_obj, bb_area, iou_loss for this batch =               0.35|0.248|0.01|0.017\n",
      "BB CSs == 0.25 0\n",
      "combined_loss, max_obj, bb_area, iou_loss for this batch =               0.47|0.248|0.022|0.029\n",
      "BB CSs == 0.25 0\n",
      "combined_loss, max_obj, bb_area, iou_loss for this batch =               0.445|0.248|0.02|0.023\n",
      "BB CSs == 0.25 0\n",
      "combined_loss, max_obj, bb_area, iou_loss for this batch =               0.471|0.248|0.022|0.026\n",
      "saving png of current patch at epoch: 0, batch: 45/169...\n",
      "BB CSs == 0.25 0\n",
      "combined_loss, max_obj, bb_area, iou_loss for this batch =               0.492|0.249|0.024|0.018\n",
      "BB CSs == 0.25 0\n",
      "combined_loss, max_obj, bb_area, iou_loss for this batch =               0.349|0.249|0.01|0.02\n",
      "BB CSs == 0.25 0\n",
      "combined_loss, max_obj, bb_area, iou_loss for this batch =               0.444|0.249|0.019|0.011\n",
      "BB CSs == 0.25 0\n",
      "combined_loss, max_obj, bb_area, iou_loss for this batch =               0.391|0.248|0.014|0.027\n",
      "BB CSs == 0.25 0\n",
      "combined_loss, max_obj, bb_area, iou_loss for this batch =               0.508|0.249|0.026|0.014\n",
      "saving png of current patch at epoch: 0, batch: 50/169...\n",
      "Unexpected exception formatting exception. Falling back to standard exception\n"
     ]
    },
    {
     "name": "stderr",
     "output_type": "stream",
     "text": [
      "Traceback (most recent call last):\n",
      "  File \"/Users/coenschoof/miniconda/envs/phantomsponges/lib/python3.9/site-packages/IPython/core/interactiveshell.py\", line 3508, in run_code\n",
      "    exec(code_obj, self.user_global_ns, self.user_ns)\n",
      "  File \"/var/folders/zm/yghhx9n94lj7sdcj5tgl1f9r0000gn/T/ipykernel_97157/2638083634.py\", line 20, in <module>\n",
      "    adv_img = uap_phantom_sponge_attack.run_attack()\n",
      "  File \"/Users/coenschoof/miniconda/envs/phantomsponges/PhantomSponges/attack/uap_phantom_sponge.py\", line 678, in run_attack\n",
      "    adv_patch = (torch.clip(patch + perturbation * factor, min_x, max_x))  # .detach()\n",
      "  File \"/Users/coenschoof/miniconda/envs/phantomsponges/PhantomSponges/attack/uap_phantom_sponge.py\", line 626, in pgd_L2\n",
      "    self.current_orig_classification_loss = 0.0\n",
      "  File \"/Users/coenschoof/miniconda/envs/phantomsponges/PhantomSponges/attack/uap_phantom_sponge.py\", line 553, in fastGradientSignMethod\n",
      "    self.models[r].zero_grad()\n",
      "  File \"/Users/coenschoof/miniconda/envs/phantomsponges/PhantomSponges/attack/uap_phantom_sponge.py\", line 506, in loss_function_gradient\n",
      "  File \"/Users/coenschoof/miniconda/envs/phantomsponges/lib/python3.9/site-packages/torch/nn/modules/module.py\", line 1051, in _call_impl\n",
      "    return forward_call(*input, **kwargs)\n",
      "  File \"/Users/coenschoof/miniconda/envs/phantomsponges/PhantomSponges/local_yolos/yolov5/models/yolo.py\", line 136, in forward\n",
      "    return self._forward_once(x, profile, visualize)  # single-scale inference, train\n",
      "  File \"/Users/coenschoof/miniconda/envs/phantomsponges/PhantomSponges/local_yolos/yolov5/models/yolo.py\", line 159, in _forward_once\n",
      "    x = m(x)  # run\n",
      "  File \"/Users/coenschoof/miniconda/envs/phantomsponges/lib/python3.9/site-packages/torch/nn/modules/module.py\", line 1051, in _call_impl\n",
      "    return forward_call(*input, **kwargs)\n",
      "  File \"/Users/coenschoof/miniconda/envs/phantomsponges/PhantomSponges/local_yolos/yolov5/models/yolo.py\", line 57, in forward\n",
      "    x[i] = self.m[i](x[i])  # conv\n",
      "  File \"/Users/coenschoof/miniconda/envs/phantomsponges/lib/python3.9/site-packages/torch/nn/modules/module.py\", line 1051, in _call_impl\n",
      "    return forward_call(*input, **kwargs)\n",
      "  File \"/Users/coenschoof/miniconda/envs/phantomsponges/lib/python3.9/site-packages/torch/nn/modules/conv.py\", line 443, in forward\n",
      "    return self._conv_forward(input, self.weight, self.bias)\n",
      "  File \"/Users/coenschoof/miniconda/envs/phantomsponges/lib/python3.9/site-packages/torch/nn/modules/conv.py\", line 439, in _conv_forward\n",
      "    return F.conv2d(input, weight, bias, self.stride,\n",
      "KeyboardInterrupt\n",
      "\n",
      "During handling of the above exception, another exception occurred:\n",
      "\n",
      "Traceback (most recent call last):\n",
      "  File \"/Users/coenschoof/miniconda/envs/phantomsponges/lib/python3.9/site-packages/IPython/core/interactiveshell.py\", line 2105, in showtraceback\n",
      "    stb = self.InteractiveTB.structured_traceback(\n",
      "  File \"/Users/coenschoof/miniconda/envs/phantomsponges/lib/python3.9/site-packages/IPython/core/ultratb.py\", line 1428, in structured_traceback\n",
      "    return FormattedTB.structured_traceback(\n",
      "  File \"/Users/coenschoof/miniconda/envs/phantomsponges/lib/python3.9/site-packages/IPython/core/ultratb.py\", line 1319, in structured_traceback\n",
      "    return VerboseTB.structured_traceback(\n",
      "  File \"/Users/coenschoof/miniconda/envs/phantomsponges/lib/python3.9/site-packages/IPython/core/ultratb.py\", line 1172, in structured_traceback\n",
      "    formatted_exception = self.format_exception_as_a_whole(etype, evalue, etb, number_of_lines_of_context,\n",
      "  File \"/Users/coenschoof/miniconda/envs/phantomsponges/lib/python3.9/site-packages/IPython/core/ultratb.py\", line 1087, in format_exception_as_a_whole\n",
      "    frames.append(self.format_record(record))\n",
      "  File \"/Users/coenschoof/miniconda/envs/phantomsponges/lib/python3.9/site-packages/IPython/core/ultratb.py\", line 969, in format_record\n",
      "    frame_info.lines, Colors, self.has_colors, lvals\n",
      "  File \"/Users/coenschoof/miniconda/envs/phantomsponges/lib/python3.9/site-packages/IPython/core/ultratb.py\", line 792, in lines\n",
      "    return self._sd.lines\n",
      "  File \"/Users/coenschoof/miniconda/envs/phantomsponges/lib/python3.9/site-packages/stack_data/utils.py\", line 144, in cached_property_wrapper\n",
      "    value = obj.__dict__[self.func.__name__] = self.func(obj)\n",
      "  File \"/Users/coenschoof/miniconda/envs/phantomsponges/lib/python3.9/site-packages/stack_data/core.py\", line 734, in lines\n",
      "    pieces = self.included_pieces\n",
      "  File \"/Users/coenschoof/miniconda/envs/phantomsponges/lib/python3.9/site-packages/stack_data/utils.py\", line 144, in cached_property_wrapper\n",
      "    value = obj.__dict__[self.func.__name__] = self.func(obj)\n",
      "  File \"/Users/coenschoof/miniconda/envs/phantomsponges/lib/python3.9/site-packages/stack_data/core.py\", line 681, in included_pieces\n",
      "    pos = scope_pieces.index(self.executing_piece)\n",
      "  File \"/Users/coenschoof/miniconda/envs/phantomsponges/lib/python3.9/site-packages/stack_data/utils.py\", line 144, in cached_property_wrapper\n",
      "    value = obj.__dict__[self.func.__name__] = self.func(obj)\n",
      "  File \"/Users/coenschoof/miniconda/envs/phantomsponges/lib/python3.9/site-packages/stack_data/core.py\", line 660, in executing_piece\n",
      "    return only(\n",
      "  File \"/Users/coenschoof/miniconda/envs/phantomsponges/lib/python3.9/site-packages/executing/executing.py\", line 190, in only\n",
      "    raise NotOneValueFound('Expected one value, found 0')\n",
      "executing.executing.NotOneValueFound: Expected one value, found 0\n"
     ]
    }
   ],
   "source": [
    "import numpy\n",
    "from attack.uap_phantom_sponge import UAPPhantomSponge\n",
    "\n",
    "torch.cuda.empty_cache()\n",
    "\n",
    "patch_name = r\"yolov\"\n",
    "for ver in models_vers:\n",
    "  patch_name += f\"_{ver}\"\n",
    "patch_name += f\"_epsilon={epsilon}_lambda1={lambda_1}_lambda2={lambda_2}\"\n",
    "\n",
    "uap_phantom_sponge_attack = UAPPhantomSponge(patch_folder=patch_name, \n",
    "                                             train_loader=train_loader, \n",
    "                                             val_loader=val_loader, \n",
    "                                             epsilon = epsilon, \n",
    "                                             lambda_1=lambda_1, \n",
    "                                             lambda_2=lambda_2, \n",
    "                                             #epochs=7,#stond hier voorheen nog niet\n",
    "                                             patch_size=patch_size, \n",
    "                                             models_vers=models_vers)\n",
    "adv_img = uap_phantom_sponge_attack.run_attack()"
   ]
  }
 ],
 "metadata": {
  "kernelspec": {
   "display_name": "internship",
   "language": "python",
   "name": "python3"
  },
  "language_info": {
   "codemirror_mode": {
    "name": "ipython",
    "version": 3
   },
   "file_extension": ".py",
   "mimetype": "text/x-python",
   "name": "python",
   "nbconvert_exporter": "python",
   "pygments_lexer": "ipython3",
   "version": "3.9.17"
  }
 },
 "nbformat": 4,
 "nbformat_minor": 0
}
